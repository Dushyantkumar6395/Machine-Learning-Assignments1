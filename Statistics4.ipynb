{
 "cells": [
  {
   "cell_type": "code",
   "execution_count": 1,
   "id": "4095556a",
   "metadata": {},
   "outputs": [],
   "source": [
    "# Q1: What are the Probability Mass Function (PMF) and Probability Density Function (PDF)? Explain with\n",
    "# an example.\n",
    "# The Probability Mass Function (PMF) and Probability Density Function (PDF) are mathematical concepts used in probability theory and statistics:\n",
    "\n",
    "# 1. **Probability Mass Function (PMF)**:\n",
    "#    - Used for discrete random variables, the PMF gives the probability that a discrete random variable takes on a specific value.\n",
    "#    - Example: For a fair six-sided die, the PMF \\( f(x) \\) would be \\( \\frac{1}{6} \\) for each outcome \\( x = 1, 2, 3, 4, 5, 6 \\).\n",
    "\n",
    "# 2. **Probability Density Function (PDF)**:\n",
    "#    - Used for continuous random variables, the PDF describes the relative likelihood of a continuous random variable taking on a specific value.\n",
    "#    - Example: The PDF of a standard normal distribution \\( N(0, 1) \\) is \\( f(x) = \\frac{1}{\\sqrt{2\\pi}} e^{-\\frac{x^2}{2}} \\), representing the probability density at each real number \\( x \\).\n",
    "\n",
    "# Understanding these functions is crucial for modeling and analyzing both discrete and continuous probability distributions in various fields, from physics to finance."
   ]
  },
  {
   "cell_type": "code",
   "execution_count": 2,
   "id": "2ec2c372",
   "metadata": {},
   "outputs": [],
   "source": [
    "# Q2: What is Cumulative Density Function (CDF)? Explain with an example. Why CDF is used?\n",
    "    \n",
    "# The Cumulative Distribution Function (CDF) is a function used in statistics to describe the probability distribution of a random variable. It gives the probability that a random variable \n",
    "# 𝑋\n",
    "# X will take a value less than or equal to \n",
    "# 𝑥\n",
    "# x, for every possible value of \n",
    "# 𝑥\n",
    "# x."
   ]
  },
  {
   "cell_type": "code",
   "execution_count": null,
   "id": "7e392bab",
   "metadata": {},
   "outputs": [],
   "source": [
    "# Q3: What are some examples of situations where the normal distribution might be used as a model?\n",
    "# Explain how the parameters of the normal distribution relate to the shape of the distribution.\n",
    "\n",
    "# The normal distribution is commonly applied in scenarios where data are symmetrically distributed around a central mean with a characteristic bell-shaped curve. Examples include:\n",
    "\n",
    "# 1. **Height and Weight**: Modeling the distribution of human heights or weights in a population.\n",
    "   \n",
    "# 2. **Test Scores**: Describing the distribution of scores on standardized tests like SAT or IQ tests.\n",
    "   \n",
    "# 3. **Measurement Errors**: Approximating the distribution of errors in scientific measurements.\n",
    "   \n",
    "# 4. **Financial Markets**: Modeling returns on investments due to the Central Limit Theorem.\n",
    "\n",
    "# Parameters:\n",
    "# - **Mean (\\(\\mu\\))**: Defines the center of the distribution, indicating where the peak of the curve is located.\n",
    "  \n",
    "# - **Standard Deviation (\\(\\sigma\\))**: Controls the spread or width of the distribution. Larger \\(\\sigma\\) values lead to broader distributions, while smaller values result in narrower distributions.\n",
    "\n",
    "# Understanding these parameters helps in quantifying the distribution's shape, center, and variability, making the normal distribution a versatile tool in statistical modeling and analysis."
   ]
  }
 ],
 "metadata": {
  "kernelspec": {
   "display_name": "Python 3 (ipykernel)",
   "language": "python",
   "name": "python3"
  },
  "language_info": {
   "codemirror_mode": {
    "name": "ipython",
    "version": 3
   },
   "file_extension": ".py",
   "mimetype": "text/x-python",
   "name": "python",
   "nbconvert_exporter": "python",
   "pygments_lexer": "ipython3",
   "version": "3.11.5"
  }
 },
 "nbformat": 4,
 "nbformat_minor": 5
}
